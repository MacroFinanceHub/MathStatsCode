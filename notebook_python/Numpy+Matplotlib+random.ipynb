{
 "cells": [
  {
   "cell_type": "markdown",
   "metadata": {},
   "source": [
    "# Python的安装\n",
    "由于我们会使用到一些Python的非标准库，比如NumPy, SciPy, Matplotlib等，在Windows系统上安装这些包比较繁琐，所以推荐直接安装Anaconda使用，下载地址：https://www.continuum.io/downloads 。对于Mac用户，可以安装Anaconda，也可以自行安装Python并使用pip安装所需要的包。Linux用户可以安装Anaconda，也可以使用apt-get, rpm等安装所需的包。\n",
    "此外，需要注意的是，Python有两个版本，Python2.7.x以及Python3.x，两者语法有差别。在这里我们总是使用Python3.x，所以在安装Python, Anaconda时，需要注意安装的版本号应该大于3，推荐使用最新的版本。\n",
    "最后，尽管可以使用其他的编辑器比如Atom, sublime以及Spyder, PyCharm等，为了提交作业方便，我们仍然推荐使用Jupyter作为学习工具。比如此文档就是使用Jupyter写作。\n",
    "# 使用Python生成随机数\n",
    "在Python中，可以使用标准库中的random包生成随机数。最基本的是生成一个在$(0,1)$区间内的均匀分布的随机数，使用此均匀分布随机数，给定任意的分布函数$F$，可以生成服从$F$的随机数。"
   ]
  },
  {
   "cell_type": "code",
   "execution_count": 1,
   "metadata": {
    "scrolled": false
   },
   "outputs": [
    {
     "name": "stdout",
     "output_type": "stream",
     "text": [
      "一个(0,1)区间内的随机数： 0.4239187977882918\n",
      "20个(0,1)区间内的随机数：\n",
      "[0.7461777058671987, 0.7640002809369442, 0.2619349174270259, 0.5373151645694403, 0.021151977199459382, 0.15821115275152264, 0.19256790471421026, 0.17264567859434854, 0.6220504286628228, 0.7923766692008438, 0.22777164246391646, 0.8414320298347094, 0.43925557005139093, 0.9181651423121377, 0.8536656574811755, 0.47314245833637214, 0.2490876653434394, 0.5592904880494572, 0.7125196323734497, 0.9785660460497733]\n"
     ]
    }
   ],
   "source": [
    "## 导入random包\n",
    "import random as rd\n",
    "\n",
    "## 生成一个x~Uniform(0,1)\n",
    "x=rd.random()\n",
    "print(\"一个(0,1)区间内的随机数：\",x)\n",
    "\n",
    "## 生成20个z~Uniform(0,1)\n",
    "z=[rd.random() for i in range(20)]\n",
    "print(\"20个(0,1)区间内的随机数：\")\n",
    "print(z)"
   ]
  },
  {
   "cell_type": "markdown",
   "metadata": {},
   "source": [
    "如果我们需要生成一个服从分布函数$F: R\\rightarrow [0,1]$的随机数，那么只要首先生成一个$(0,1)$的随机数$u$，并令$x=F^{-1}(u)$，那么新生成的$x$即服从$F$的分布。比如，指数分布的分布函数为$1-e^{-\\frac{1}{b}\\cdot x}$，其中b为一个参数，因而我们可以使用$x=-b\\cdot \\ln(u)$来生成服从指数分布的随机数。"
   ]
  },
  {
   "cell_type": "code",
   "execution_count": 2,
   "metadata": {},
   "outputs": [
    {
     "name": "stdout",
     "output_type": "stream",
     "text": [
      "20个服从指数分布F(x)=1-exp{-(1/b)*x}的随机数：\n",
      "[0.44679805300951514, 5.611418627105818, 6.613927262639526, 5.733704664970527, 2.9236386321867047, 12.17669318889409, 3.5511002246962473, 3.5621849369890777, 2.5416062590494644, 0.871879888262096, 0.5616608891162714, 1.1193205247017282, 1.7287374220439435, 2.3134820314088587, 4.578108160809033, 1.092674172501304, 1.0272573762185706, 10.03015407424566, 1.9415010429259736, 9.05345307142383]\n"
     ]
    }
   ],
   "source": [
    "## 导入random包\n",
    "import random as rd\n",
    "import math\n",
    "\n",
    "## 设定参数\n",
    "\n",
    "b=3\n",
    "\n",
    "## 生成20个x~F(x)=1-exp{-(1/b)*x}\n",
    "x=[-1*math.log(rd.random())*b for i in range(20)]\n",
    "print(\"20个服从指数分布F(x)=1-exp{-(1/b)*x}的随机数：\")\n",
    "print(x)\n"
   ]
  },
  {
   "cell_type": "markdown",
   "metadata": {},
   "source": [
    "我们可以使用经验分布函数（Empirical distribution function）与理论的分布函数比较，来判断我们生成的随机数是否满足某一分布。经验分布函数的定义为：$\\hat{F}(x)=\\frac{1}{N}\\cdot \\sum_{i=1}^N 1\\{X_i \\leq x\\}$，也就是给定一个$x$，其经验分布函数的值为样本中小于等于$x$的比例，比如："
   ]
  },
  {
   "cell_type": "code",
   "execution_count": 3,
   "metadata": {},
   "outputs": [
    {
     "name": "stdout",
     "output_type": "stream",
     "text": [
      " x  | 分布函数 | 经验分布函数| 差的绝对值\n",
      "0.1 |0.03278 | 0.02500  | 0.00778\n",
      "0.3 |0.09516 | 0.05000  | 0.04516\n",
      "0.5 |0.15352 | 0.15500  | 0.00148\n",
      "0.7 |0.20811 | 0.19000  | 0.01811\n",
      "0.9 |0.25918 | 0.25000  | 0.00918\n",
      "1.1 |0.30696 | 0.26000  | 0.04696\n",
      "1.3 |0.35166 | 0.32500  | 0.02666\n",
      "1.5 |0.39347 | 0.35500  | 0.03847\n",
      "1.7 |0.43259 | 0.40000  | 0.03259\n",
      "1.9 |0.46918 | 0.46000  | 0.00918\n",
      "2.1 |0.50341 | 0.49500  | 0.00841\n",
      "2.3 |0.53544 | 0.55000  | 0.01456\n",
      "2.5 |0.56540 | 0.56500  | 0.00040\n",
      "2.7 |0.59343 | 0.59000  | 0.00343\n",
      "2.9 |0.61965 | 0.61500  | 0.00465\n",
      "3.1 |0.64418 | 0.62500  | 0.01918\n",
      "3.3 |0.66713 | 0.65000  | 0.01713\n",
      "3.5 |0.68860 | 0.66500  | 0.02360\n",
      "3.7 |0.70868 | 0.67500  | 0.03368\n",
      "3.9 |0.72747 | 0.70500  | 0.02247\n",
      "4.1 |0.74504 | 0.73000  | 0.01504\n",
      "4.3 |0.76149 | 0.74500  | 0.01649\n",
      "4.5 |0.77687 | 0.75000  | 0.02687\n",
      "4.7 |0.79126 | 0.76500  | 0.02626\n",
      "4.9 |0.80472 | 0.78000  | 0.02472\n",
      "5.1 |0.81732 | 0.80000  | 0.01732\n",
      "5.3 |0.82910 | 0.81000  | 0.01910\n",
      "5.5 |0.84012 | 0.82500  | 0.01512\n",
      "5.7 |0.85043 | 0.83000  | 0.02043\n",
      "5.9 |0.86008 | 0.84500  | 0.01508\n",
      "6.1 |0.86910 | 0.86000  | 0.00910\n",
      "6.3 |0.87754 | 0.87000  | 0.00754\n",
      "6.5 |0.88544 | 0.88000  | 0.00544\n",
      "6.7 |0.89283 | 0.88500  | 0.00783\n",
      "6.9 |0.89974 | 0.90000  | 0.00026\n",
      "7.1 |0.90621 | 0.90500  | 0.00121\n",
      "7.3 |0.91226 | 0.90500  | 0.00726\n",
      "7.5 |0.91792 | 0.91500  | 0.00292\n",
      "7.7 |0.92321 | 0.92000  | 0.00321\n",
      "7.9 |0.92816 | 0.93000  | 0.00184\n",
      "8.1 |0.93279 | 0.93000  | 0.00279\n",
      "8.3 |0.93713 | 0.93500  | 0.00213\n",
      "8.5 |0.94118 | 0.93500  | 0.00618\n",
      "8.7 |0.94498 | 0.94000  | 0.00498\n",
      "8.9 |0.94853 | 0.94500  | 0.00353\n",
      "9.1 |0.95185 | 0.95500  | 0.00315\n",
      "9.3 |0.95495 | 0.95500  | 0.00005\n",
      "9.5 |0.95786 | 0.96500  | 0.00714\n",
      "9.7 |0.96057 | 0.97000  | 0.00943\n",
      "9.9 |0.96312 | 0.97500  | 0.01188\n",
      "Mean absolute bias: 0.013547569410007714\n"
     ]
    }
   ],
   "source": [
    "## 导入random包\n",
    "import random as rd\n",
    "import math\n",
    "\n",
    "## 设定参数\n",
    "\n",
    "b=3 #指数分布参数\n",
    "N=200 #样本容量\n",
    "\n",
    "## 生成N个x~F(x)=1-exp{-(1/b)*x}\n",
    "X=[-b*math.log(rd.random()) for i in range(N)]\n",
    "\n",
    "## 给定一些点，在这些点上计算分布函数和经验分布函数\n",
    "x=[(2*i+1)/10 for i in range(50)] #0.1,0.3,...,9.9\n",
    "\n",
    "## 计算理论的分布函数\n",
    "F=[1-math.exp(-1/b*t) for t in x]\n",
    "\n",
    "## 计算经验分布函数\n",
    "\n",
    "empirical_F=lambda s: math.fsum([z<=s for z in X])/N # lambda表达式，定义了s点处的经验分布函数\n",
    "F_hat=list(map(empirical_F,x)) # 计算x的所有点的经验分布函数\n",
    "\n",
    "## 计算经验分布函数与真实的分布函数之间的绝对差异\n",
    "bias=[abs(F[i]-F_hat[i]) for i in range(50)]\n",
    "## 打印两个分布函数及其绝对差异，以及平均的绝对差异\n",
    "print(\" x  | 分布函数 | 经验分布函数| 差的绝对值\")\n",
    "for i in range(50):\n",
    "    print(\"%.1f |%.5f | %.5f  | %.5f\" % (x[i],F[i],F_hat[i],bias[i]))\n",
    "print(\"Mean absolute bias:\",math.fsum(bias)/50)"
   ]
  },
  {
   "cell_type": "markdown",
   "metadata": {},
   "source": [
    "# 使用NumPy\n",
    "虽然Python自带了一些基本的数学函数以及列表、元组等数据结构，然而并没有对向量运算的天然支持，因而我们需要NumPy这个包来支持Python中的向量运算。https://docs.scipy.org/doc/numpy-dev/user/quickstart.html 提供了一个简单的教程。\n",
    "下面展示了如何使用NumPy操作向量："
   ]
  },
  {
   "cell_type": "code",
   "execution_count": 4,
   "metadata": {
    "scrolled": true
   },
   "outputs": [
    {
     "name": "stdout",
     "output_type": "stream",
     "text": [
      "向量a= [1 2 3]\n",
      "b= [ 1.  1.  1.]\n",
      "基本数学运算：元素对元素运算\n",
      "数乘：3*a= [3 6 9]\n",
      "a-b= [ 0.  1.  2.]\n",
      "a+b= [ 2.  3.  4.]\n",
      "a*b= [ 1.  2.  3.]\n",
      "b/a= [ 1.          0.5         0.33333333]\n",
      "向量运算\n",
      "点乘a.*b= 6.0\n",
      "外积(a,b)=\n",
      " [[ 1.  1.  1.]\n",
      " [ 2.  2.  2.]\n",
      " [ 3.  3.  3.]]\n",
      "0到5等分20等分：\n",
      " [ 0.          0.26315789  0.52631579  0.78947368  1.05263158  1.31578947\n",
      "  1.57894737  1.84210526  2.10526316  2.36842105  2.63157895  2.89473684\n",
      "  3.15789474  3.42105263  3.68421053  3.94736842  4.21052632  4.47368421\n",
      "  4.73684211  5.        ]\n"
     ]
    }
   ],
   "source": [
    "import numpy as np\n",
    "\n",
    "a=np.array([1,2,3]) #创建一个三维向量\n",
    "print('向量a=',a)\n",
    "\n",
    "b=np.ones(3) #创建一个元素全为1的向量\n",
    "print('b=',b)\n",
    "print(\"基本数学运算：元素对元素运算\")\n",
    "print('数乘：3*a=',3*a)\n",
    "print('a-b=',a-b)\n",
    "print('a+b=',a+b)\n",
    "print('a*b=',a*b)\n",
    "print('b/a=',b/a)\n",
    "print('向量运算')\n",
    "c=np.dot(a,b) #a.*b\n",
    "print('点乘a.*b=',c)\n",
    "d=np.outer(a,b)\n",
    "print('外积(a,b)=\\n',d)\n",
    "\n",
    "## linespace\n",
    "lp=np.linspace(0,5,20) #0到5等分20等分\n",
    "print(\"0到5等分20等分：\\n\",lp)"
   ]
  },
  {
   "cell_type": "markdown",
   "metadata": {},
   "source": [
    "下面展示如何使用NumPy操作矩阵："
   ]
  },
  {
   "cell_type": "code",
   "execution_count": 5,
   "metadata": {},
   "outputs": [
    {
     "name": "stdout",
     "output_type": "stream",
     "text": [
      "矩阵A=\n",
      " [[1 2 3]\n",
      " [4 8 6]\n",
      " [4 3 2]]\n",
      "矩阵M=\n",
      " [[ 0.  0.  0.]\n",
      " [ 0.  0.  0.]\n",
      " [ 0.  0.  0.]]\n",
      "矩阵O=\n",
      " [[ 1.  1.  1.]\n",
      " [ 1.  1.  1.]\n",
      " [ 1.  1.  1.]]\n",
      "矩阵I=\n",
      " [[ 1.  0.  0.]\n",
      " [ 0.  1.  0.]\n",
      " [ 0.  0.  1.]]\n",
      "A+I=\n",
      " [[ 2.  2.  3.]\n",
      " [ 4.  9.  6.]\n",
      " [ 4.  3.  3.]]\n",
      "A-I=\n",
      " [[ 0.  2.  3.]\n",
      " [ 4.  7.  6.]\n",
      " [ 4.  3.  1.]]\n",
      "A*I=\n",
      " [[ 1.  0.  0.]\n",
      " [ 0.  8.  0.]\n",
      " [ 0.  0.  2.]]\n",
      "I/A=\n",
      " [[ 1.     0.     0.   ]\n",
      " [ 0.     0.125  0.   ]\n",
      " [ 0.     0.     0.5  ]]\n",
      "矩阵相乘，A*O=\n",
      " [[  6.   6.   6.]\n",
      " [ 18.  18.  18.]\n",
      " [  9.   9.   9.]]\n",
      "矩阵相乘，O*A=\n",
      " [[  9.  13.  11.]\n",
      " [  9.  13.  11.]\n",
      " [  9.  13.  11.]]\n",
      "矩阵转置，tranpose(A)=\n",
      " [[1 4 4]\n",
      " [2 8 3]\n",
      " [3 6 2]]\n",
      "矩阵的逆，inv(A)=\n",
      " [[ 0.06666667 -0.16666667  0.4       ]\n",
      " [-0.53333333  0.33333333 -0.2       ]\n",
      " [ 0.66666667 -0.16666667  0.        ]]\n",
      "矩阵的特征值=\n",
      " [ 11.80142315  -2.04468118   1.24325803]\n",
      "矩阵的特征向量=\n",
      " [[ 0.26952559  0.61195333  0.44683972]\n",
      " [ 0.88453378  0.21152352 -0.72721843]\n",
      " [ 0.3807308  -0.76208328  0.52104474]]\n"
     ]
    }
   ],
   "source": [
    "## 矩阵\n",
    "A=np.array([[1,2,3],[4,8,6],[4,3,2]])\n",
    "print(\"矩阵A=\\n\",A)\n",
    "M=np.zeros((3,3)) #全为0的矩阵\n",
    "print(\"矩阵M=\\n\",M)\n",
    "O=np.ones((3,3)) #全为1的矩阵\n",
    "print(\"矩阵O=\\n\",O)\n",
    "I=np.eye(3) #单位阵\n",
    "print(\"矩阵I=\\n\",I)\n",
    "print(\"A+I=\\n\",A+I)\n",
    "print(\"A-I=\\n\",A-I)\n",
    "print(\"A*I=\\n\",A*I)\n",
    "print(\"I/A=\\n\",I/A)\n",
    "print(\"矩阵相乘，A*O=\\n\", np.dot(A,O))\n",
    "print(\"矩阵相乘，O*A=\\n\", np.dot(O,A))\n",
    "print(\"矩阵转置，tranpose(A)=\\n\", A.transpose())\n",
    "print(\"矩阵的逆，inv(A)=\\n\", np.linalg.inv(A))\n",
    "l,L=np.linalg.eig(A)\n",
    "print(\"矩阵的特征值=\\n\", l)\n",
    "print(\"矩阵的特征向量=\\n\", L)"
   ]
  },
  {
   "cell_type": "markdown",
   "metadata": {},
   "source": [
    "此外，NumPy还支持很多常用函数的向量运算，比如："
   ]
  },
  {
   "cell_type": "code",
   "execution_count": 6,
   "metadata": {},
   "outputs": [
    {
     "name": "stdout",
     "output_type": "stream",
     "text": [
      "a= [ 1.   0.5  3. ]\n",
      "cos(a)= [ 0.54030231  0.87758256 -0.9899925 ]\n",
      "exp(a)= [  2.71828183   1.64872127  20.08553692]\n",
      "ln(a)= [ 0.         -0.69314718  1.09861229]\n"
     ]
    }
   ],
   "source": [
    "a=np.array([1,0.5,3])\n",
    "print('a=',a)\n",
    "print('cos(a)=',np.cos(a))\n",
    "print('exp(a)=',np.exp(a))\n",
    "print('ln(a)=',np.log(a))"
   ]
  },
  {
   "cell_type": "markdown",
   "metadata": {},
   "source": [
    "最后，NumPy中的random模块也可以用来生成随机数："
   ]
  },
  {
   "cell_type": "code",
   "execution_count": 7,
   "metadata": {},
   "outputs": [
    {
     "name": "stdout",
     "output_type": "stream",
     "text": [
      "a= 0.9439981462339899\n",
      "x=\n",
      " [ 0.73295621  0.02100395  0.87554092  0.22174679  0.75227554  0.32194272\n",
      "  0.51274438  0.73570712  0.33611003  0.91666306  0.09490157  0.37551636\n",
      "  0.69430588  0.13945022  0.37854763  0.87019048  0.24890196  0.46031048\n",
      "  0.52154089  0.19364191]\n"
     ]
    }
   ],
   "source": [
    "import numpy.random as nprd\n",
    "\n",
    "# 产生(0,1)的随机数\n",
    "a=nprd.rand()\n",
    "print('a=',a)\n",
    "\n",
    "# 产生20个(0,1)的随机数\n",
    "x=nprd.rand(20)\n",
    "print('x=\\n',x)"
   ]
  },
  {
   "cell_type": "markdown",
   "metadata": {},
   "source": [
    "使用NumPy，上面的指数分布的例子可以改写成如下更加简洁的方式："
   ]
  },
  {
   "cell_type": "code",
   "execution_count": 8,
   "metadata": {},
   "outputs": [
    {
     "name": "stdout",
     "output_type": "stream",
     "text": [
      " x  | 分布函数| 经验分布函数| 差的绝对值\n",
      "0.1 |0.03278 | 0.01500  | 0.01778\n",
      "0.3 |0.09516 | 0.04500  | 0.05016\n",
      "0.5 |0.15352 | 0.11000  | 0.04352\n",
      "0.7 |0.20811 | 0.17500  | 0.03311\n",
      "0.9 |0.25918 | 0.23500  | 0.02418\n",
      "1.1 |0.30696 | 0.29000  | 0.01696\n",
      "1.3 |0.35166 | 0.34000  | 0.01166\n",
      "1.5 |0.39347 | 0.37000  | 0.02347\n",
      "1.7 |0.43259 | 0.40000  | 0.03259\n",
      "1.9 |0.46918 | 0.45500  | 0.01418\n",
      "2.1 |0.50341 | 0.50000  | 0.00341\n",
      "2.3 |0.53544 | 0.52000  | 0.01544\n",
      "2.5 |0.56540 | 0.55500  | 0.01040\n",
      "2.7 |0.59343 | 0.59000  | 0.00343\n",
      "2.9 |0.61965 | 0.62500  | 0.00535\n",
      "3.1 |0.64418 | 0.63500  | 0.00918\n",
      "3.3 |0.66713 | 0.65000  | 0.01713\n",
      "3.5 |0.68860 | 0.66500  | 0.02360\n",
      "3.7 |0.70868 | 0.68000  | 0.02868\n",
      "3.9 |0.72747 | 0.69500  | 0.03247\n",
      "4.1 |0.74504 | 0.72000  | 0.02504\n",
      "4.3 |0.76149 | 0.74000  | 0.02149\n",
      "4.5 |0.77687 | 0.75500  | 0.02187\n",
      "4.7 |0.79126 | 0.78500  | 0.00626\n",
      "4.9 |0.80472 | 0.80000  | 0.00472\n",
      "5.1 |0.81732 | 0.80500  | 0.01232\n",
      "5.3 |0.82910 | 0.81500  | 0.01410\n",
      "5.5 |0.84012 | 0.84000  | 0.00012\n",
      "5.7 |0.85043 | 0.84500  | 0.00543\n",
      "5.9 |0.86008 | 0.84500  | 0.01508\n",
      "6.1 |0.86910 | 0.85000  | 0.01910\n",
      "6.3 |0.87754 | 0.86000  | 0.01754\n",
      "6.5 |0.88544 | 0.86500  | 0.02044\n",
      "6.7 |0.89283 | 0.87000  | 0.02283\n",
      "6.9 |0.89974 | 0.88500  | 0.01474\n",
      "7.1 |0.90621 | 0.88500  | 0.02121\n",
      "7.3 |0.91226 | 0.89000  | 0.02226\n",
      "7.5 |0.91792 | 0.90000  | 0.01792\n",
      "7.7 |0.92321 | 0.90000  | 0.02321\n",
      "7.9 |0.92816 | 0.90000  | 0.02816\n",
      "8.1 |0.93279 | 0.90000  | 0.03279\n",
      "8.3 |0.93713 | 0.90500  | 0.03213\n",
      "8.5 |0.94118 | 0.90500  | 0.03618\n",
      "8.7 |0.94498 | 0.91000  | 0.03498\n",
      "8.9 |0.94853 | 0.91500  | 0.03353\n",
      "9.1 |0.95185 | 0.92500  | 0.02685\n",
      "9.3 |0.95495 | 0.93000  | 0.02495\n",
      "9.5 |0.95786 | 0.93500  | 0.02286\n",
      "9.7 |0.96057 | 0.93500  | 0.02557\n",
      "9.9 |0.96312 | 0.94000  | 0.02312\n",
      "Mean absolute bias: 0.0208697149909\n"
     ]
    }
   ],
   "source": [
    "import numpy as np\n",
    "import numpy.random as nprd\n",
    "\n",
    "## 设定参数\n",
    "\n",
    "b=3 #指数分布参数\n",
    "N=200 #样本容量\n",
    "\n",
    "## 生成N个x~F(x)=1-exp{-(1/b)*x}\n",
    "X=-b*np.log(nprd.random(N))\n",
    "\n",
    "## 给定一些点，在这些点上计算分布函数和经验分布函数\n",
    "x=np.linspace(0.1,9.9,50) #0.1,0.3,...,9.9\n",
    "\n",
    "## 计算理论的分布函数\n",
    "F=1-np.exp((-1/b)*x)\n",
    "\n",
    "## 计算经验分布函数\n",
    "\n",
    "empirical_F=lambda s: np.sum(X<=s)/N # lambda表达式，定义了s点处的经验分布函数\n",
    "F_hat=np.array(list(map(empirical_F,x))) # 计算x的所有点的经验分布函数\n",
    "\n",
    "## 计算经验分布函数与真实的分布函数之间的绝对差异\n",
    "bias=np.abs(F-F_hat)\n",
    "## 打印两个分布函数及其绝对差异，以及平均的绝对差异\n",
    "print(\" x  | 分布函数| 经验分布函数| 差的绝对值\")\n",
    "for i in range(50):\n",
    "    print(\"%.1f |%.5f | %.5f  | %.5f\" % (x[i],F[i],F_hat[i],bias[i]))\n",
    "print(\"Mean absolute bias:\",np.sum(bias)/50)"
   ]
  },
  {
   "cell_type": "markdown",
   "metadata": {},
   "source": [
    "# 使用matplotlib画图\n",
    "在Python中，可以方便的是用matplotlib画图。在使用前应该使用(sudo) pip install matplotlib进行安装，Python3可能需要使用pip3 install。matplotlib地址：http://matplotlib.org/2.0.0/index.html ，教程地址：http://www.labri.fr/perso/nrougier/teaching/matplotlib/ 。\n",
    "使用matplotlib可以地将以上计算得到的理论分布函数与经验分布函数表示在图中："
   ]
  },
  {
   "cell_type": "code",
   "execution_count": 9,
   "metadata": {
    "scrolled": false
   },
   "outputs": [
    {
     "data": {
      "image/png": "[encoded data removed]",
      "text/plain": [
       "<matplotlib.figure.Figure at 0x104c96eb8>"
      ]
     },
     "metadata": {},
     "output_type": "display_data"
    }
   ],
   "source": [
    "## 导入matplotlib\n",
    "import matplotlib.pyplot as plt \n",
    "## 使图形直接插入到jupyter中\n",
    "%matplotlib inline\n",
    "# 设定图像大小\n",
    "plt.rcParams['figure.figsize'] = (15.0, 8.0)\n",
    "\n",
    "\n",
    "plt.plot(x,F,label=r'$F(x)$',color='blue') ## 画出理论的分布函数\n",
    "plt.plot(x,F_hat,label=r'$\\hat{F}(x)$',color='green') ## 画出经验分布函数\n",
    "plt.legend(loc='upper left', frameon=True)\n",
    "plt.show() ## 画图"
   ]
  },
  {
   "cell_type": "markdown",
   "metadata": {},
   "source": [
    "除此之外，matplotlib的图类型非常多，比如常见的直方图："
   ]
  },
  {
   "cell_type": "code",
   "execution_count": 10,
   "metadata": {},
   "outputs": [
    {
     "data": {
      "image/png": "[encoded data removed]",
      "text/plain": [
       "<matplotlib.figure.Figure at 0x105d82e80>"
      ]
     },
     "metadata": {},
     "output_type": "display_data"
    }
   ],
   "source": [
    "z=nprd.normal(0,np.sqrt(2),500) ## 生成100个均值为0，方差为2的正态分布\n",
    "plt.hist(z,bins=20) ##柱状图，20个柱子\n",
    "plt.xlabel('z')\n",
    "plt.ylabel(\"Density\")\n",
    "plt.title('Normal Distribution')\n",
    "plt.show() ## 画图"
   ]
  },
  {
   "cell_type": "markdown",
   "metadata": {},
   "source": [
    "以及散点图："
   ]
  },
  {
   "cell_type": "code",
   "execution_count": 11,
   "metadata": {},
   "outputs": [
    {
     "data": {
      "image/png": "[encoded data removed]",
      "text/plain": [
       "<matplotlib.figure.Figure at 0x1060b30f0>"
      ]
     },
     "metadata": {},
     "output_type": "display_data"
    }
   ],
   "source": [
    "x=nprd.normal(0,np.sqrt(2),500) ## 生成100个均值为0，方差为2的正态分布\n",
    "y=x+nprd.normal(0,1,500) ## y与x为线性关系\n",
    "plt.scatter(x,y,color='pink') ##散点图\n",
    "plt.plot(x,x,color='blue') ## 回归曲线\n",
    "plt.xlabel('x')\n",
    "plt.ylabel(\"y\")\n",
    "plt.title('Relationship of x and y')\n",
    "plt.show() ## 画图"
   ]
  },
  {
   "cell_type": "markdown",
   "metadata": {},
   "source": [
    "可以参考matplotlib的官方网站以及教程，组合使用这些图形可以画出各种符合自己要求的图像。"
   ]
  }
 ],
 "metadata": {
  "kernelspec": {
   "display_name": "Python 3",
   "language": "python",
   "name": "python3"
  },
  "language_info": {
   "codemirror_mode": {
    "name": "ipython",
    "version": 3
   },
   "file_extension": ".py",
   "mimetype": "text/x-python",
   "name": "python",
   "nbconvert_exporter": "python",
   "pygments_lexer": "ipython3",
   "version": "3.8.5"
  },
  "latex_envs": {
   "LaTeX_envs_menu_present": true,
   "autocomplete": true,
   "bibliofile": "biblio.bib",
   "cite_by": "apalike",
   "current_citInitial": 1,
   "eqLabelWithNumbers": true,
   "eqNumInitial": 1,
   "hotkeys": {
    "equation": "Ctrl-E",
    "itemize": "Ctrl-I"
   },
   "labels_anchors": false,
   "latex_user_defs": false,
   "report_style_numbering": false,
   "user_envs_cfg": false
  }
 },
 "nbformat": 4,
 "nbformat_minor": 1
}
